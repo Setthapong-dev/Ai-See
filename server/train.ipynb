{
 "cells": [
  {
   "cell_type": "markdown",
   "id": "b7158893-5bc8-4b82-a2b6-3fd089df323d",
   "metadata": {},
   "source": [
    "# -----------------------------\n",
    "# 1. Import library\n",
    "# -----------------------------"
   ]
  },
  {
   "cell_type": "code",
   "execution_count": 1,
   "id": "8f38fb17-d79f-48eb-9b32-3a49e4db4b6e",
   "metadata": {},
   "outputs": [],
   "source": [
    "import pandas as pd\n",
    "import numpy as np\n",
    "import tensorflow as tf\n",
    "from tensorflow.keras.models import Sequential\n",
    "from tensorflow.keras.layers import Conv2D, MaxPooling2D, Flatten, Dense, Dropout\n",
    "from tensorflow.keras.preprocessing.image import load_img, img_to_array\n",
    "from sklearn.model_selection import train_test_split\n",
    "import matplotlib.pyplot as plt"
   ]
  },
  {
   "cell_type": "markdown",
   "id": "f3c905bb-581c-4984-80b3-e0e012e61b3c",
   "metadata": {},
   "source": [
    "# -----------------------------\n",
    "# 2. Load CSV\n",
    "# -----------------------------"
   ]
  },
  {
   "cell_type": "code",
   "execution_count": 2,
   "id": "520ae4d1-f9ed-47cd-b44f-54ae1cd3f06c",
   "metadata": {},
   "outputs": [],
   "source": [
    "df = pd.read_csv(\"labels.csv\")\n",
    "IMG_PATH = \"images/\""
   ]
  },
  {
   "cell_type": "code",
   "execution_count": 3,
   "id": "de132ebe-b725-4bf5-80cc-99d05987c8c6",
   "metadata": {},
   "outputs": [],
   "source": [
    "X, y = [], []"
   ]
  },
  {
   "cell_type": "code",
   "execution_count": 4,
   "id": "66eae91f-1321-4bd7-8730-cfa30429f660",
   "metadata": {},
   "outputs": [],
   "source": [
    "for _, row in df.iterrows():\n",
    "    img = load_img(IMG_PATH + row[\"filename\"], target_size=(128,128))\n",
    "    img = img_to_array(img) / 255.0\n",
    "    X.append(img)\n",
    "    y.append([row[\"overripe mango\"], row[\"ripe mango\"], row[\"unripe mango\"]])"
   ]
  },
  {
   "cell_type": "code",
   "execution_count": 5,
   "id": "cb9c89cd-807e-49a9-b043-c42443197855",
   "metadata": {},
   "outputs": [],
   "source": [
    "X = np.array(X)\n",
    "y = np.array(y)"
   ]
  },
  {
   "cell_type": "code",
   "execution_count": 6,
   "id": "a4e03f1b-f9e5-420e-9f32-8f23fc2cf9dc",
   "metadata": {},
   "outputs": [
    {
     "name": "stdout",
     "output_type": "stream",
     "text": [
      "รูป: (1060, 128, 128, 3) เลเบล: (1060, 3)\n"
     ]
    }
   ],
   "source": [
    "print(\"รูป:\", X.shape, \"เลเบล:\", y.shape)"
   ]
  },
  {
   "cell_type": "markdown",
   "id": "efd8f9b5-bb79-49ec-833d-e19f6bf35042",
   "metadata": {},
   "source": [
    "# -----------------------------\n",
    "# 3. Train / Test split\n",
    "# -----------------------------"
   ]
  },
  {
   "cell_type": "code",
   "execution_count": 7,
   "id": "7578f940-f50f-4e53-a15b-28b0a2ba70a1",
   "metadata": {},
   "outputs": [],
   "source": [
    "X_train, X_test, y_train, y_test = train_test_split(\n",
    "    X, y, test_size=0.2, random_state=42, stratify=y\n",
    ")"
   ]
  },
  {
   "cell_type": "markdown",
   "id": "aa59b191-273d-4398-99f9-244044944d30",
   "metadata": {},
   "source": [
    "# -----------------------------\n",
    "# 4. สร้าง CNN\n",
    "# -----------------------------"
   ]
  },
  {
   "cell_type": "code",
   "execution_count": 8,
   "id": "503c9976-d5ec-4d37-9b84-95edeeffc255",
   "metadata": {},
   "outputs": [
    {
     "name": "stderr",
     "output_type": "stream",
     "text": [
      "c:\\users\\koobo\\appdata\\local\\programs\\python\\python39\\lib\\site-packages\\keras\\src\\layers\\convolutional\\base_conv.py:113: UserWarning: Do not pass an `input_shape`/`input_dim` argument to a layer. When using Sequential models, prefer using an `Input(shape)` object as the first layer in the model instead.\n",
      "  super().__init__(activity_regularizer=activity_regularizer, **kwargs)\n"
     ]
    }
   ],
   "source": [
    "model = Sequential([\n",
    "    Conv2D(32, (3,3), activation=\"relu\", input_shape=(128,128,3)),\n",
    "    MaxPooling2D(2,2),\n",
    "    Conv2D(64, (3,3), activation=\"relu\"),\n",
    "    MaxPooling2D(2,2),\n",
    "    Flatten(),\n",
    "    Dense(128, activation=\"relu\"),\n",
    "    Dropout(0.5),\n",
    "    Dense(3, activation=\"softmax\")\n",
    "])"
   ]
  },
  {
   "cell_type": "code",
   "execution_count": 9,
   "id": "802b3c23-34dd-4dc2-b8a0-047f5d8f0e7f",
   "metadata": {},
   "outputs": [],
   "source": [
    "model.compile(optimizer=\"adam\",\n",
    "              loss=\"categorical_crossentropy\",\n",
    "              metrics=[\"accuracy\"])"
   ]
  },
  {
   "cell_type": "markdown",
   "id": "02013ab1-fe01-4b8a-9251-b7c78cbad56d",
   "metadata": {},
   "source": [
    "# -----------------------------\n",
    "# 5. Train Model\n",
    "# -----------------------------"
   ]
  },
  {
   "cell_type": "code",
   "execution_count": 11,
   "id": "27321cd2-e743-4be8-a6ef-10c64854f114",
   "metadata": {},
   "outputs": [
    {
     "name": "stdout",
     "output_type": "stream",
     "text": [
      "Epoch 1/10\n",
      "\u001b[1m27/27\u001b[0m \u001b[32m━━━━━━━━━━━━━━━━━━━━\u001b[0m\u001b[37m\u001b[0m \u001b[1m6s\u001b[0m 152ms/step - accuracy: 0.5213 - loss: 1.7544 - val_accuracy: 1.0000 - val_loss: 0.0736\n",
      "Epoch 2/10\n",
      "\u001b[1m27/27\u001b[0m \u001b[32m━━━━━━━━━━━━━━━━━━━━\u001b[0m\u001b[37m\u001b[0m \u001b[1m4s\u001b[0m 136ms/step - accuracy: 0.9693 - loss: 0.1166 - val_accuracy: 0.9906 - val_loss: 0.0429\n",
      "Epoch 3/10\n",
      "\u001b[1m27/27\u001b[0m \u001b[32m━━━━━━━━━━━━━━━━━━━━\u001b[0m\u001b[37m\u001b[0m \u001b[1m4s\u001b[0m 136ms/step - accuracy: 0.9786 - loss: 0.0682 - val_accuracy: 0.9434 - val_loss: 0.1506\n",
      "Epoch 4/10\n",
      "\u001b[1m27/27\u001b[0m \u001b[32m━━━━━━━━━━━━━━━━━━━━\u001b[0m\u001b[37m\u001b[0m \u001b[1m4s\u001b[0m 135ms/step - accuracy: 0.9612 - loss: 0.1009 - val_accuracy: 0.9953 - val_loss: 0.0231\n",
      "Epoch 5/10\n",
      "\u001b[1m27/27\u001b[0m \u001b[32m━━━━━━━━━━━━━━━━━━━━\u001b[0m\u001b[37m\u001b[0m \u001b[1m5s\u001b[0m 134ms/step - accuracy: 0.9930 - loss: 0.0369 - val_accuracy: 1.0000 - val_loss: 0.0071\n",
      "Epoch 6/10\n",
      "\u001b[1m27/27\u001b[0m \u001b[32m━━━━━━━━━━━━━━━━━━━━\u001b[0m\u001b[37m\u001b[0m \u001b[1m4s\u001b[0m 134ms/step - accuracy: 0.9765 - loss: 0.0732 - val_accuracy: 1.0000 - val_loss: 0.0116\n",
      "Epoch 7/10\n",
      "\u001b[1m27/27\u001b[0m \u001b[32m━━━━━━━━━━━━━━━━━━━━\u001b[0m\u001b[37m\u001b[0m \u001b[1m4s\u001b[0m 131ms/step - accuracy: 0.9780 - loss: 0.0697 - val_accuracy: 0.9906 - val_loss: 0.0182\n",
      "Epoch 8/10\n",
      "\u001b[1m27/27\u001b[0m \u001b[32m━━━━━━━━━━━━━━━━━━━━\u001b[0m\u001b[37m\u001b[0m \u001b[1m4s\u001b[0m 132ms/step - accuracy: 0.9957 - loss: 0.0185 - val_accuracy: 1.0000 - val_loss: 0.0060\n",
      "Epoch 9/10\n",
      "\u001b[1m27/27\u001b[0m \u001b[32m━━━━━━━━━━━━━━━━━━━━\u001b[0m\u001b[37m\u001b[0m \u001b[1m4s\u001b[0m 136ms/step - accuracy: 0.9939 - loss: 0.0240 - val_accuracy: 1.0000 - val_loss: 0.0045\n",
      "Epoch 10/10\n",
      "\u001b[1m27/27\u001b[0m \u001b[32m━━━━━━━━━━━━━━━━━━━━\u001b[0m\u001b[37m\u001b[0m \u001b[1m4s\u001b[0m 135ms/step - accuracy: 0.9947 - loss: 0.0224 - val_accuracy: 0.9953 - val_loss: 0.0080\n"
     ]
    }
   ],
   "source": [
    "history = model.fit(\n",
    "    X_train, y_train,\n",
    "    epochs=10,\n",
    "    batch_size=32,\n",
    "    validation_data=(X_test, y_test)\n",
    ")"
   ]
  },
  {
   "cell_type": "markdown",
   "id": "dda7dade-3e97-4cfc-97cc-ecd0f52af6ab",
   "metadata": {},
   "source": [
    "# -----------------------------\n",
    "# 6. Plot Accuracy / Loss\n",
    "# -----------------------------"
   ]
  },
  {
   "cell_type": "code",
   "execution_count": 12,
   "id": "a07e3c16-2e05-4b6d-82e3-087862009b0e",
   "metadata": {},
   "outputs": [
    {
     "data": {
      "image/png": "[encoded data removed]",
      "text/plain": [
       "<Figure size 640x480 with 1 Axes>"
      ]
     },
     "metadata": {},
     "output_type": "display_data"
    }
   ],
   "source": [
    "plt.plot(history.history['accuracy'], label='train acc')\n",
    "plt.plot(history.history['val_accuracy'], label='val acc')\n",
    "plt.legend()\n",
    "plt.show()"
   ]
  },
  {
   "cell_type": "markdown",
   "id": "4b283b4a-d94b-4b1b-9ed0-49e8f04e5b17",
   "metadata": {},
   "source": [
    "# -----------------------------\n",
    "# 7. Save model\n",
    "# -----------------------------"
   ]
  },
  {
   "cell_type": "code",
   "execution_count": 13,
   "id": "f3602230-f070-4c03-9a9e-b42e841cbf45",
   "metadata": {},
   "outputs": [
    {
     "name": "stderr",
     "output_type": "stream",
     "text": [
      "WARNING:absl:You are saving your model as an HDF5 file via `model.save()` or `keras.saving.save_model(model)`. This file format is considered legacy. We recommend using instead the native Keras format, e.g. `model.save('my_model.keras')` or `keras.saving.save_model(model, 'my_model.keras')`. \n"
     ]
    },
    {
     "name": "stdout",
     "output_type": "stream",
     "text": [
      "✅ โมเดลถูกบันทึกแล้ว mango_cnn.h5\n"
     ]
    }
   ],
   "source": [
    "model.save(\"mango_cnn.h5\")\n",
    "print(\"✅ โมเดลถูกบันทึกแล้ว mango_cnn.h5\")"
   ]
  },
  {
   "cell_type": "code",
   "execution_count": null,
   "id": "6370cf45-f64c-4bc5-9bfd-a1ac2d2bb109",
   "metadata": {},
   "outputs": [],
   "source": []
  }
 ],
 "metadata": {
  "kernelspec": {
   "display_name": "Python 3 (ipykernel)",
   "language": "python",
   "name": "python3"
  },
  "language_info": {
   "codemirror_mode": {
    "name": "ipython",
    "version": 3
   },
   "file_extension": ".py",
   "mimetype": "text/x-python",
   "name": "python",
   "nbconvert_exporter": "python",
   "pygments_lexer": "ipython3",
   "version": "3.9.5"
  }
 },
 "nbformat": 4,
 "nbformat_minor": 5
}
